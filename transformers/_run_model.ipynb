{
 "cells": [
  {
   "cell_type": "markdown",
   "metadata": {},
   "source": [
    "import functions"
   ]
  },
  {
   "cell_type": "code",
   "execution_count": 1,
   "metadata": {},
   "outputs": [],
   "source": [
    "\n",
    "import  os,warnings, sys, shutil, torch, os, numpy as np, math\n",
    "import pandas as pd\n",
    "\n",
    "\n",
    "warnings.filterwarnings(\"ignore\")\n",
    "import pickle\n",
    "import torch\n",
    "path = os.path.dirname(os.getcwd())\n",
    "# os.chdir('/workspaces/classification_yishai/transformers/')\n",
    "# path = '/workspaces/classification_yishai/mutual_functions/'\n",
    "sys.path.insert(0,path + '/mutual_functions/' )\n",
    "data_path = path + '/mutual_functions/data/' \n",
    "from usefull_functions import *\n",
    "from evaluation_functions import *\n",
    "from plot_functions import *\n",
    "\n",
    "from utils import training,initialize_training,tensor_dataset_transformers,test\n",
    "from sklearn.metrics import  accuracy_score\n",
    "\n",
    "# reload packages with new changes\n",
    "%load_ext autoreload\n",
    "%autoreload 2\n",
    "\n",
    "data_path\n",
    "os.environ[\"PYTORCH_CUDA_ALLOC_CONF\"] = \"max_split_size_mb:512\"\n",
    "torch.cuda.empty_cache()\n"
   ]
  },
  {
   "cell_type": "markdown",
   "metadata": {},
   "source": [
    "model params"
   ]
  },
  {
   "cell_type": "code",
   "execution_count": 2,
   "metadata": {},
   "outputs": [
    {
     "name": "stdout",
     "output_type": "stream",
     "text": [
      "cpu\n"
     ]
    }
   ],
   "source": [
    "device = torch.device('cuda:0' if torch.cuda.is_available() else \"cpu\")\n",
    "print(device)\n",
    "prop = {'dataset':'AF', #'shortTracks_seperate.pkl\n",
    "        'batch':15,\n",
    "        'lr':0.001,  \n",
    "        'epochs':500,#300\n",
    "\n",
    "        'emb_size':64,#the feature dimension is transforemed to emb_size \n",
    "        'nhead':16, # number of heads in the multiheadattention models \n",
    "        # Note that embed_dim will be split across num_heads (i.e. each head will have dimension embed_dim // num_heads).\n",
    "        \n",
    "        'norm':'mean_standardize', #'MinMaxScale' # 'mean_standardize', \n",
    "        'seq_len':1000,#20, \n",
    "        'LEN':None, #None,#7\n",
    "        'task_type':'classification', # 'classification' # 'regression'\n",
    "\n",
    "        \"nlayers\":2,   'task_rate':0.5, 'masking_ratio':0.15, \n",
    "        'lamb':0.8, 'ratio_highest_attention':0.5, 'avg':'macro', 'dropout':0.01, 'nhid':128, 'nhid_task':128, 'nhid_tar':128,\n",
    "\n",
    "        'device':device,\n",
    "        'dtype':torch.half if 'cuda' in str(device) else torch.float32, #torch.half, #\n",
    "        'data_path' : data_path,\n",
    "        'get_attn_maps':False,\n",
    "        \n",
    "        \n",
    "\n",
    "\n",
    "}"
   ]
  },
  {
   "cell_type": "markdown",
   "metadata": {},
   "source": [
    "load and preprocess dataset"
   ]
  },
  {
   "cell_type": "code",
   "execution_count": 3,
   "metadata": {},
   "outputs": [
    {
     "name": "stdout",
     "output_type": "stream",
     "text": [
      "The autoreload extension is already loaded. To reload it, use:\n",
      "  %reload_ext autoreload\n",
      "Data loading start...\n",
      "'seq_len (n steps)': 640\n",
      "train ind: (1, 10, 17, 29, 26, 23, 6, 0, 15, 18, 20, 28, 5, 8, 12)\n",
      "test ind: (4, 24, 11, 2, 13, 25, 9, 7, 27, 3, 19, 14, 21, 16, 22)\n",
      "0 :  5\n",
      "0 :  5\n",
      "1 :  5\n",
      "1 :  5\n",
      "2 :  5\n",
      "2 :  5\n",
      "data columns ['3', '2']\n",
      "clssified by:  type\n",
      "mean:  [-0.00670786  0.01775463]  std:  [0.25814643 0.08959018]  m1  (15, 2)  s1  (15, 2)\n",
      "preprocessing data using mean_standardize complete...\n",
      "X_train: (15, 640, 2), y_train: (15,), X_test: (15, 640, 2), y_test: (15,)\n"
     ]
    }
   ],
   "source": [
    "%load_ext autoreload\n",
    "%autoreload 2\n",
    "# prop['shuffle'] = False\n",
    "# X_train, y_train, X_test, y_test,X_val,y_val = loadData(prop,prop['data_path'])\n",
    "# print(f'{len(y_train)+len(y_test)+len(y_val)}{y_train},{y_test},{y_val}')\n",
    "prop['shuffle'] = True\n",
    "X_train1, y_train1, X_test1, y_test1,X_val1,y_val1 = loadData(prop,prop['data_path'])\n",
    "\n"
   ]
  },
  {
   "cell_type": "markdown",
   "metadata": {},
   "source": [
    "run model"
   ]
  },
  {
   "cell_type": "code",
   "execution_count": 4,
   "metadata": {},
   "outputs": [
    {
     "name": "stdout",
     "output_type": "stream",
     "text": [
      "The autoreload extension is already loaded. To reload it, use:\n",
      "  %reload_ext autoreload\n",
      "Data loading start...\n",
      "'seq_len (n steps)': 640\n",
      "train ind: (1, 10, 17, 29, 26, 23, 6, 0, 15, 18, 20, 28, 5, 8, 12)\n",
      "test ind: (4, 24, 11, 2, 13, 25, 9, 7, 27, 3, 19, 14, 21, 16, 22)\n",
      "0 :  5\n",
      "0 :  5\n",
      "1 :  5\n",
      "1 :  5\n",
      "2 :  5\n",
      "2 :  5\n",
      "data columns ['3', '2']\n",
      "clssified by:  type\n",
      "mean:  [-0.00670786  0.01775463]  std:  [0.25814643 0.08959018]  m1  (15, 2)  s1  (15, 2)\n",
      "preprocessing data using mean_standardize complete...\n",
      "X_train: (15, 640, 2), y_train: (15,), X_test: (15, 640, 2), y_test: (15,)\n",
      "torch.Size([15, 640, 2]) torch.Size([15]) torch.Size([15, 640, 2]) torch.Size([15])\n",
      "Initializing model...\n",
      "Model intialized...\n",
      "Training start...\n",
      "Epoch: 1, TAR Loss: 2.5047260522842407 , TASK Loss: 0.981855571269989,epoch Acc: 0.3333333333333333\n"
     ]
    }
   ],
   "source": [
    "%load_ext autoreload\n",
    "%autoreload 2\n",
    "def main(prop):\n",
    "    # input: \n",
    "    #   x [np.float32, torch.tensor] - shape: (batch_size, seq_len, input_size)  \n",
    "    #   y [np.float32, torch.tensor] - shape: (batch_size, nclasses) or (batch_size, seq_len, nclasses)\n",
    "    X_train, y_train, X_test, y_test,_,_ = loadData(prop,prop['data_path'])\n",
    "\n",
    "    # dataloader, data batches and transform into tensor\n",
    "    X_train_task, y_train_task = tensor_dataset_transformers(prop, X_train, y_train,dtype = prop['dtype'])#allow to change the train_data dtype into half (float16)\n",
    "    X_test, y_test = tensor_dataset_transformers(prop, X_test, y_test)\n",
    "    prop['seq_len'], prop['input_size'] = X_train_task.shape[1], X_train_task.shape[2]\n",
    "    print(X_train_task.shape, y_train_task.shape, X_test.shape, y_test.shape)  \n",
    "    \n",
    "\n",
    "    \n",
    "    prop['nclasses'] = torch.max(y_train_task).item() + 1 if prop['task_type'] == 'classification' else None\n",
    "    if np.unique(y_train_task.numpy()).shape[0] != prop['nclasses']: print ('nclasses not equal to the number of unique classes in the training set')\n",
    "    \n",
    "    print('Initializing model...')\n",
    "    model, optimizer, criterion_tar, criterion_task, best_model, best_optimizer = initialize_training(prop)\n",
    "    print('Model intialized...')\n",
    "\n",
    "    print('Training start...')\n",
    "    attention_maps,acc_arr = training(model, optimizer, criterion_tar, criterion_task, best_model, best_optimizer, X_train_task, y_train_task, X_test, y_test, prop)\n",
    "    print('Training complete...')\n",
    "    \n",
    "    # y_pred, y, _, _, _, _, _ = test(best_model, X_test, y_test, prop['batch'], prop['nclasses'], criterion_task, prop['task_type'], prop['device'], prop['avg'])\n",
    "    # pred, target = y_pred.cpu().data.numpy(), y.cpu().data.numpy()\n",
    "    # pred = np.argmax(pred, axis = 1)\n",
    "    # acc = accuracy_score(target, pred)\n",
    "    # print(f'acc: {acc}')    \n",
    "    return criterion_task,best_model,best_optimizer,attention_maps,acc_arr\n",
    "\n",
    "criterion_task,best_model,best_optimizer,attention_maps,acc = main(prop)\n",
    "# mat = []\n",
    "# for i in range(20):\n",
    "    \n",
    "#     j = int(640-i*640/20)\n",
    "#     prop['seq_len'] = j\n",
    "#     # print(f' seq_len: {j}')\n",
    "   \n",
    "#     criterion_task,best_model,best_optimizer,attention_maps,acc = main(prop)\n",
    "#     mat.append([prop['seq_len'],acc[-1],prop['epochs'],prop['batch'],prop['LEN'],acc])\n",
    "#     pickle.dump(mat, open('accuarcyVSseq_len.pkl', 'wb'))\n",
    "#     # plot_accuarcy('accuarcyVSseq_len.pkl')\n",
    "    \n"
   ]
  },
  {
   "cell_type": "code",
   "execution_count": null,
   "metadata": {},
   "outputs": [],
   "source": []
  },
  {
   "cell_type": "markdown",
   "metadata": {},
   "source": [
    "inference & analysis\n",
    "1. prediction of test data\n",
    "2. returns test_metrics: for classification [loss, acc, prec, rec, f1] else [rmse, mae]"
   ]
  },
  {
   "cell_type": "code",
   "execution_count": null,
   "metadata": {},
   "outputs": [
    {
     "name": "stdout",
     "output_type": "stream",
     "text": [
      "The autoreload extension is already loaded. To reload it, use:\n",
      "  %reload_ext autoreload\n",
      "accuracy: 100.0,\n",
      "              precision    recall  f1-score   support\n",
      "\n",
      "           0       1.00      1.00      1.00         5\n",
      "           1       1.00      1.00      1.00         5\n",
      "           2       1.00      1.00      1.00         5\n",
      "\n",
      "    accuracy                           1.00        15\n",
      "   macro avg       1.00      1.00      1.00        15\n",
      "weighted avg       1.00      1.00      1.00        15\n",
      "\n",
      "roc curve applicable only for binary classification (this is a multiclass classification)\n"
     ]
    },
    {
     "data": {
      "image/png": "[encoded data removed]",
      "text/plain": [
       "<Figure size 1500x1500 with 2 Axes>"
      ]
     },
     "metadata": {},
     "output_type": "display_data"
    }
   ],
   "source": [
    "%load_ext autoreload\n",
    "%autoreload 2\n",
    "X_train_task, y_train_task = tensor_dataset_transformers(prop, X_train, y_train)\n",
    "X_test, y_test = tensor_dataset_transformers(prop, X_test, y_test)\n",
    "# X_train_task, y_train_task, X_test, y_test = tensor_dataset_transformers(prop, X_train, y_train, X_test, y_test)\n",
    "y_pred, y, _, _, _, _, _ = test(best_model, X_test, y_test, prop['batch'], prop['nclasses'], criterion_task, prop['task_type'], prop['device'], prop['avg'])\n",
    "# test_metrics = utils.evaluate(y_pred, y, nclasses, criterion, task_type, device, avg)\n",
    "# prop['class_names_'] = get_class_names(data_path + prop['dataset'] + '/class.csv',prop['class_names'].copy())\n",
    "# prop['class_names']   \n",
    "test_metrics = evaluate_(y_pred, y, prop['nclasses'], criterion_task, prop['task_type'], device,class_names = prop['class_names_'])\n",
    "\n",
    "# print(test_metrics)\n",
    "\n",
    "\n",
    "\n"
   ]
  }
 ],
 "metadata": {
  "kernelspec": {
   "display_name": "Python 3",
   "language": "python",
   "name": "python3"
  },
  "language_info": {
   "codemirror_mode": {
    "name": "ipython",
    "version": 3
   },
   "file_extension": ".py",
   "mimetype": "text/x-python",
   "name": "python",
   "nbconvert_exporter": "python",
   "pygments_lexer": "ipython3",
   "version": "3.11.2"
  },
  "orig_nbformat": 4
 },
 "nbformat": 4,
 "nbformat_minor": 2
}
