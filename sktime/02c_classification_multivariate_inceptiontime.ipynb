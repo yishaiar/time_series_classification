{
 "cells": [
  {
   "cell_type": "markdown",
   "metadata": {},
   "source": [
    "# Multi-variate time series classification using InceptionTime\n",
    "\n",
    "In this notebook, we use InceptionTime to perform for multi-variate time series classification by deep learning."
   ]
  },
  {
   "cell_type": "code",
   "execution_count": 1,
   "metadata": {},
   "outputs": [],
   "source": [
    "\n",
    "import  os,warnings, sys, shutil, os, numpy as np, pandas as pd\n",
    "# import pandas as pd\n",
    "\n",
    "\n",
    "warnings.filterwarnings(\"ignore\")\n",
    "# import pickle\n",
    "# import torch\n",
    "from sklearn.metrics import  accuracy_score\n",
    "path = os.path.dirname(os.getcwd())\n",
    "\n",
    "sys.path.insert(0,path + '/mutual_functions/' )\n",
    "data_path = path + '/mutual_functions/data/' \n",
    "from usefull_functions import *\n",
    "from evaluation_functions import *\n",
    "# from plot_functions import *\n",
    "\n",
    "\n",
    "from utils import rocket_classify,rocket_transform,predict,load_data_sktime,dl_model\n",
    "\n",
    "\n",
    "# reload packages with new changes\n",
    "%load_ext autoreload\n",
    "%autoreload 2\n",
    "\n",
    "# data_path\n",
    "# os.environ[\"PYTORCH_CUDA_ALLOC_CONF\"] = \"max_split_size_mb:512\"\n",
    "# torch.cuda.empty_cache()\n",
    "os.environ['TF_CPP_MIN_LOG_LEVEL'] = '1'\n",
    "from sktime.classification.deep_learning.inceptiontime import InceptionTimeClassifier\n",
    "import numpy as np\n",
    "import seaborn as sns\n"
   ]
  },
  {
   "cell_type": "code",
   "execution_count": 2,
   "metadata": {
    "pycharm": {
     "is_executing": true
    }
   },
   "outputs": [],
   "source": [
    "\n",
    "prop = {'dataset':'AF', #'shortTracks_seperate.pkl\n",
    "        'data_path' : data_path,\n",
    "        \n",
    "        \n",
    "        \n",
    "        'norm':'without_norm', #'MinMax01',MinMax-11 # 'mean_standardize', 'without_norm'\n",
    "        'seq_len':100,#20, \n",
    "        'LEN':None, #None,#7\n",
    "        'consecutive': True,\n",
    "\n",
    "        'shuffle': False,\n",
    "        'test_size' :0.2,\n",
    "       \n",
    "\n",
    "        'multivariate':True,\n",
    "\n",
    "\n",
    "        # # multivariate version for multivariate time series input: Multivariate compiles via Numba on import.\n",
    "        # 'transform': 'MiniRocket', #Rocket, 'MultiRocket','MiniRocket','MultiRocketMultivariate',  'MiniRocketMultivariate', \n",
    "        # # RidgeClassifierCV for smaller datasets (<20k training examples). For larger datasets, use logistic regression trained with stochastic gradient descent SGDClassifier(loss='log').\n",
    "        # 'classifier': 'sgd', #'ridge','sgd'\n",
    "\n",
    "        'model': 'InceptionTime', #CNNNetwork, FCNNetwork\n",
    "        # cnn, fcn, resnet, inception, inceptiontime, mcdcnn, tlenet, encoder\n",
    "        # 'InceptionTime', MLP, ResNet, MCDCNN (Multi Channel Deep Convolutional Neural Network)\n",
    "\n",
    "\n",
    "}"
   ]
  },
  {
   "cell_type": "code",
   "execution_count": 3,
   "metadata": {},
   "outputs": [
    {
     "name": "stdout",
     "output_type": "stream",
     "text": [
      "data dimensions: train - (40, 6), test - (40, 6) with series length 100\n"
     ]
    }
   ],
   "source": [
    "from usefull_functions import *\n",
    "from evaluation_functions import *\n",
    "\n",
    "\n",
    "    \n",
    "# X_train, y_train, X_test, y_test,_,_ = loadData(prop,prop['data_path'])\n",
    "# # x_train, y_train, x_test, y_test = data_loader(data_path + prop['dataset'] + '/')\n",
    "# # (X_train ==x_train).all()\n",
    "\n",
    "\n",
    "# X_train,X_test = convert(X_train.copy()),convert(X_test.copy())\n",
    "# y_train,y_test = y_train.astype(str),y_test.astype(str)\n",
    "X_train, y_train, X_test, y_test =  load_data_sktime(multivariate = True)"
   ]
  },
  {
   "cell_type": "markdown",
   "metadata": {},
   "source": [
    "# Load a dataset\n",
    "The Basic Motions dataset, from [timeseriesclassification.com](http://www.timeseriesclassification.com), has time series in six dimensions."
   ]
  },
  {
   "cell_type": "code",
   "execution_count": 4,
   "metadata": {
    "pycharm": {
     "is_executing": true
    }
   },
   "outputs": [],
   "source": [
    "# X_train, y_train = load_basic_motions(split=\"train\", return_X_y=True)\n",
    "# X_test, y_test = load_basic_motions(split=\"test\", return_X_y=True)\n",
    "# print(X_train.shape)\n",
    "# print(X_test.shape)\n",
    "# X_train.head()"
   ]
  },
  {
   "cell_type": "markdown",
   "metadata": {},
   "source": [
    "# Train a deep neural network classifier\n",
    "Here we choose to use the InceptionTime classifier. Other classifiers provided by sktime-dl include MLP, ResNet, MCDCNN (Multi Channel Deep Convolutional Neural Network)"
   ]
  },
  {
   "cell_type": "code",
   "execution_count": 7,
   "metadata": {
    "pycharm": {
     "is_executing": true
    }
   },
   "outputs": [
    {
     "name": "stdout",
     "output_type": "stream",
     "text": [
      "model: InceptionTimeClassifier(n_epochs=1)\n",
      "1/1 [==============================] - 0s 319ms/step\n",
      "score:  0.25\n",
      "model: FCNClassifier(n_epochs=1)\n",
      "3/3 [==============================] - 0s 6ms/step\n",
      "score:  0.2\n",
      "model: CNNClassifier(n_epochs=1)\n",
      "3/3 [==============================] - 0s 1ms/step\n",
      "score:  0.25\n",
      "model: LSTMFCNClassifier(callbacks=[], n_epochs=1, verbose=False)\n",
      "1/1 [==============================] - 0s 321ms/step\n",
      "score:  0.25\n",
      "model: MLPClassifier(n_epochs=1)\n",
      "3/3 [==============================] - 0s 2ms/step\n",
      "score:  0.225\n",
      "model: TapNetClassifier(n_epochs=1)\n",
      "3/3 [==============================] - 1s 54ms/step\n",
      "score:  0.35\n",
      "model: MACNNClassifier(n_epochs=1)\n",
      "10/10 [==============================] - 0s 18ms/step\n",
      "score:  0.25\n",
      "model: MCDCNNClassifier(n_epochs=1)\n",
      "3/3 [==============================] - 0s 2ms/step\n",
      "score:  0.325\n",
      "model: ResNetClassifier(n_epochs=1)\n",
      "3/3 [==============================] - 0s 11ms/step\n",
      "score:  0.25\n"
     ]
    },
    {
     "name": "stderr",
     "output_type": "stream",
     "text": [
      "WARNING:absl:`lr` is deprecated in Keras optimizer, please use `learning_rate` or use the legacy optimizer, e.g.,tf.keras.optimizers.legacy.RMSprop.\n"
     ]
    },
    {
     "name": "stdout",
     "output_type": "stream",
     "text": [
      "model: SimpleRNNClassifier(num_epochs=1)\n",
      "40/40 [==============================] - 0s 2ms/step\n",
      "score:  0.225\n"
     ]
    }
   ],
   "source": [
    "from utils import *\n",
    "model_types = ['InceptionTime','FCN','CNN','LSTMFCN', 'MLP','TapNet','MACNN','MCDCNN','ResNet' , 'SimpleRNN']#\n",
    "for m in model_types:\n",
    "    model = dl_model(model_type = m,n_epochs=1,verbose=False)\n",
    "\n",
    "    print('model:', model.fit(X_train, y_train))\n",
    "    print('score: ', model.score(X_test, y_test))"
   ]
  },
  {
   "cell_type": "markdown",
   "metadata": {},
   "source": [
    "# Grid Search\n",
    "sktime-dl is compatible with scikit-learn and can use sklearn's GridSearchCV.\n",
    "\n",
    "Here we search over two parameters, CNN kernel size and pooling size."
   ]
  },
  {
   "cell_type": "code",
   "execution_count": 9,
   "metadata": {
    "pycharm": {
     "is_executing": true
    }
   },
   "outputs": [],
   "source": [
    "param_grid = {\"nb_filters\": [16, 32], \"bottleneck_size\": [16, 32]}\n",
    "grid = GridSearchCV(network, param_grid=param_grid, cv=5)\n",
    "# commented fit call to pass checks (meet time constraints)\n",
    "# grid.fit(X_train, y_train)\n",
    "\n",
    "# print(\"Best cross-validation accuracy: {:.2f}\".format(grid.best_score_))\n",
    "# print(\"Test set score: {:.2f}\".format(grid.score(X_test, y_test)))\n",
    "# print(\"Best parameters: {}\".format(grid.best_params_))"
   ]
  }
 ],
 "metadata": {
  "file_extension": ".py",
  "kernelspec": {
   "display_name": "Python 3 (ipykernel)",
   "language": "python",
   "name": "python3"
  },
  "language_info": {
   "codemirror_mode": {
    "name": "ipython",
    "version": 3
   },
   "file_extension": ".py",
   "mimetype": "text/x-python",
   "name": "python",
   "nbconvert_exporter": "python",
   "pygments_lexer": "ipython3",
   "version": "3.10.8"
  },
  "mimetype": "text/x-python",
  "name": "python",
  "npconvert_exporter": "python",
  "pygments_lexer": "ipython3",
  "version": 3
 },
 "nbformat": 4,
 "nbformat_minor": 2
}
